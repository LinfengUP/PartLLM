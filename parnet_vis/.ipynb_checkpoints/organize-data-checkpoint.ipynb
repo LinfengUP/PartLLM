{
 "cells": [
  {
   "cell_type": "code",
   "execution_count": null,
   "id": "e9aa07c2-ab55-4ae0-bd65-f271d99ed800",
   "metadata": {},
   "outputs": [],
   "source": [
    "import json\n",
    "import numpy as np\n",
    "import pyviz3d.visualizer as viz\n",
    "import os\n",
    "from plyfile import PlyData, PlyElement\n",
    "import torch"
   ]
  },
  {
   "cell_type": "code",
   "execution_count": null,
   "id": "0c98ba68-5bf0-4b39-a76f-af0ee13f4273",
   "metadata": {},
   "outputs": [],
   "source": [
    "with open('part_meta.json', 'r') as fcc_file:\n",
    "    meta_data = json.load(fcc_file)"
   ]
  },
  {
   "cell_type": "code",
   "execution_count": null,
   "id": "b130734b-b802-47e2-9a8c-31fd4f5cf885",
   "metadata": {},
   "outputs": [],
   "source": [
    "meta_class_id = {}\n",
    "index = 0\n",
    "for meta_class in meta_data:\n",
    "    for i in meta_data[meta_class]:\n",
    "        temp = i+\" of \"+meta_class.lower()\n",
    "        # print(temp)\n",
    "        meta_class_id[temp] = index\n",
    "        index+=1"
   ]
  },
  {
   "cell_type": "code",
   "execution_count": null,
   "id": "f0523b45-b423-4269-81be-15ca410471a7",
   "metadata": {
    "scrolled": true
   },
   "outputs": [],
   "source": [
    "v = viz.Visualizer()\n",
    "part_class={}\n",
    "out_count = 0\n",
    "\n",
    "# for i in ['Dishwasher']:\n",
    "# for i in ['Lamp']:\n",
    "for i in meta_data:\n",
    "    part_class[i] = {}\n",
    "    with open('/data2/llf/partnet/partnet_dataset/stats/train_val_test_split/'+i+'.train.json', 'r') as fcc_file:\n",
    "        train_data = json.load(fcc_file)\n",
    "        count = 0\n",
    "        for data in train_data:\n",
    "            anno_id = data['anno_id']\n",
    "            model_id = data['model_id']\n",
    "            result_file = '/data2/llf/partnet/data_v0/'+anno_id+'/result.json'\n",
    "            with open(result_file, 'r') as result_json:\n",
    "                result = json.load(result_json)\n",
    "            print(result)\n",
    "            for meta_class in meta_data[i]:\n",
    "                if isinstance(meta_data[i][meta_class][0],list):\n",
    "                    include_list = meta_data[i][meta_class][0]\n",
    "                    exclude_list = meta_data[i][meta_class][1]\n",
    "                else:\n",
    "                    include_list = meta_data[i][meta_class]\n",
    "                    exclude_list = []\n",
    "                part_class[i][meta_class] = []\n",
    "                dfs(result,include_list,exclude_list,i,meta_class)\n",
    "            # print(part_class)\n",
    "\n",
    "            data_path = os.path.join(\"/data2/llf/partnet/data_v0/\",anno_id,\"point_sample\")\n",
    "            # point = read_ply(os.path.join(data_path,\"sample-points-all-pts-label-10000.ply\"))\n",
    "            point = read_ply(os.path.join(data_path,\"sample-points-all-pts-nor-rgba-10000.ply\"))\n",
    "            label = open(os.path.join(data_path,\"sample-points-all-label-10000.txt\")).readlines()\n",
    "            label = np.array([int(x[:-1]) for x in label])\n",
    "            color = np.array([[255,255,255]]*10000)\n",
    "\n",
    "            print(part_class)\n",
    "\n",
    "            re = torch.tensor(label)\n",
    "            change = np.array([True]*10000)\n",
    "            for color_index,name in enumerate(part_class):\n",
    "                real_color = 0\n",
    "                for sub_name in part_class[name]:\n",
    "                    temp = sub_name+\" of \"+name.lower()\n",
    "                    # print(temp)\n",
    "                    for index in part_class[name][sub_name]:\n",
    "                        color[label==index] = COLOR_DETECTRON2[real_color]\n",
    "                        # print(color.shape)\n",
    "                        change[label==index] = False\n",
    "                        re[label==index] = meta_class_id[temp]\n",
    "                    real_color+=1\n",
    "            re[change] = 255\n",
    "            # print(os.path.join(data_path,\"label.pth\"))\n",
    "            # torch.save(re,os.path.join(data_path,\"label.pth\"))\n",
    "            v.add_points(anno_id+\"_\"+name+\"_ori\", point[:,:3], point[:,3:], point_size=10)\n",
    "            v.add_points(anno_id+\"_\"+name+\"_lbl\", point[:,:3], np.array(color), point_size=10)\n",
    "\n",
    "            count+=1\n",
    "            if count>5:\n",
    "                break\n",
    "    break\n",
    "v.save('example_point_clouds')"
   ]
  },
  {
   "cell_type": "code",
   "execution_count": 20,
   "id": "0e46687f-d8c0-413a-a7bd-51691bcfd71b",
   "metadata": {},
   "outputs": [],
   "source": [
    "for i in label:\n",
    "    if i==2:\n",
    "        print(i)"
   ]
  },
  {
   "cell_type": "code",
   "execution_count": 15,
   "id": "141752da-ca7c-4166-b616-67e6995879dd",
   "metadata": {},
   "outputs": [
    {
     "name": "stdout",
     "output_type": "stream",
     "text": [
      "handle\n",
      "shoulder_strap\n",
      "zipper\n",
      "body\n"
     ]
    }
   ],
   "source": [
    "for i in result:\n",
    "    if isinstance(meta_data['Bag']['handle'][0],list):\n",
    "        print(i)\n",
    "    for j in meta_data['Bag']:\n",
    "        if \n",
    "        if i['name']==j:\n",
    "            print(j)\n",
    "        else:\n",
    "            print(j)"
   ]
  },
  {
   "cell_type": "code",
   "execution_count": 6,
   "id": "7e657672-8a7c-4aa5-b874-96cb331211ad",
   "metadata": {},
   "outputs": [],
   "source": [
    "def dfs(result,include_list,exclude_list,item_class,meta_class):\n",
    "    # print(result)\n",
    "    # return\n",
    "    for i in result:\n",
    "        if i['name'] in include_list:\n",
    "            extract_label(i,meta_data,exclude_list,item_class,meta_class)\n",
    "            # break\n",
    "        elif 'children' in i:\n",
    "            dfs(i['children'],include_list,exclude_list,item_class,meta_class)"
   ]
  },
  {
   "cell_type": "code",
   "execution_count": 48,
   "id": "32c40a20-c352-4d9f-96c8-21e278b816f7",
   "metadata": {},
   "outputs": [],
   "source": [
    "def extract_label(result,meta_data,exlude_list,item_class,meta_class):\n",
    "    # print(result)\n",
    "    i=result\n",
    "    if 'children' not in i:\n",
    "        # print(i)\n",
    "        if i['name'] not in exclude_list:\n",
    "            part_class[item_class][meta_class].append(i['id'])\n",
    "        # except:\n",
    "        #     print(\"wrong\")\n",
    "        #     print(i)\n",
    "    else:\n",
    "        for children in i['children']:\n",
    "            # print(\"-----children----------\")\n",
    "            # print(children)\n",
    "            extract_label(children,meta_data,exclude_list,item_class,meta_class)"
   ]
  },
  {
   "cell_type": "code",
   "execution_count": 8,
   "id": "d0d0a975-d6b0-4f58-8d48-27032a9fe0b4",
   "metadata": {},
   "outputs": [],
   "source": [
    "def read_ply(filename):\n",
    "    \"\"\" read XYZ point cloud from filename PLY file \"\"\"\n",
    "    plydata = PlyData.read(filename)\n",
    "    x = np.asarray(plydata.elements[0].data['x'])\n",
    "    y = np.asarray(plydata.elements[0].data['y'])\n",
    "    z = np.asarray(plydata.elements[0].data['z'])\n",
    "    r = np.asarray(plydata.elements[0].data['red'])\n",
    "    g = np.asarray(plydata.elements[0].data['blue'])\n",
    "    b = np.asarray(plydata.elements[0].data['green'])\n",
    "    # print(plydata)\n",
    "    return np.stack([x,y,z,r,g,b], axis=1)"
   ]
  },
  {
   "cell_type": "code",
   "execution_count": 14,
   "id": "6b9c26df-6b1f-4291-943d-70c240e47611",
   "metadata": {},
   "outputs": [],
   "source": [
    "COLOR_DETECTRON2 = np.array(\n",
    "    [\n",
    "        0.000, 0.447, 0.741,\n",
    "        0.850, 0.325, 0.098,\n",
    "        0.929, 0.694, 0.125,\n",
    "        0.494, 0.184, 0.556,\n",
    "        0.466, 0.674, 0.188,\n",
    "        0.301, 0.745, 0.933,\n",
    "        0.635, 0.078, 0.184,\n",
    "        # 0.300, 0.300, 0.300,\n",
    "        0.600, 0.600, 0.600,\n",
    "        1.000, 0.000, 0.000,\n",
    "        1.000, 0.500, 0.000,\n",
    "        0.749, 0.749, 0.000,\n",
    "        0.000, 1.000, 0.000,\n",
    "        0.000, 0.000, 1.000,\n",
    "        0.667, 0.000, 1.000,\n",
    "        0.333, 0.333, 0.000,\n",
    "        0.333, 0.667, 0.000,\n",
    "        0.333, 1.000, 0.000,\n",
    "        0.667, 0.333, 0.000,\n",
    "        0.667, 0.667, 0.000,\n",
    "        0.667, 1.000, 0.000,\n",
    "        1.000, 0.333, 0.000,\n",
    "        1.000, 0.667, 0.000,\n",
    "        1.000, 1.000, 0.000,\n",
    "        0.000, 0.333, 0.500,\n",
    "        0.000, 0.667, 0.500,\n",
    "        0.000, 1.000, 0.500,\n",
    "        0.333, 0.000, 0.500,\n",
    "        0.333, 0.333, 0.500,\n",
    "        0.333, 0.667, 0.500,\n",
    "        0.333, 1.000, 0.500,\n",
    "        0.667, 0.000, 0.500,\n",
    "        0.667, 0.333, 0.500,\n",
    "        0.667, 0.667, 0.500,\n",
    "        0.667, 1.000, 0.500,\n",
    "        1.000, 0.000, 0.500,\n",
    "        1.000, 0.333, 0.500,\n",
    "        1.000, 0.667, 0.500,\n",
    "        1.000, 1.000, 0.500,\n",
    "        0.000, 0.333, 1.000,\n",
    "        0.000, 0.667, 1.000,\n",
    "        0.000, 1.000, 1.000,\n",
    "        0.333, 0.000, 1.000,\n",
    "        0.333, 0.333, 1.000,\n",
    "        0.333, 0.667, 1.000,\n",
    "        0.333, 1.000, 1.000,\n",
    "        0.667, 0.000, 1.000,\n",
    "        0.667, 0.333, 1.000,\n",
    "        0.667, 0.667, 1.000,\n",
    "        0.667, 1.000, 1.000,\n",
    "        1.000, 0.000, 1.000,\n",
    "        1.000, 0.333, 1.000,\n",
    "        1.000, 0.667, 1.000,\n",
    "        # 0.333, 0.000, 0.000,\n",
    "        0.500, 0.000, 0.000,\n",
    "        0.667, 0.000, 0.000,\n",
    "        0.833, 0.000, 0.000,\n",
    "        1.000, 0.000, 0.000,\n",
    "        0.000, 0.167, 0.000,\n",
    "        # 0.000, 0.333, 0.000,\n",
    "        0.000, 0.500, 0.000,\n",
    "        0.000, 0.667, 0.000,\n",
    "        0.000, 0.833, 0.000,\n",
    "        0.000, 1.000, 0.000,\n",
    "        0.000, 0.000, 0.167,\n",
    "        # 0.000, 0.000, 0.333,\n",
    "        0.000, 0.000, 0.500,\n",
    "        0.000, 0.000, 0.667,\n",
    "        0.000, 0.000, 0.833,\n",
    "        0.000, 0.000, 1.000,\n",
    "        # 0.000, 0.000, 0.000,\n",
    "        0.143, 0.143, 0.143,\n",
    "        0.857, 0.857, 0.857,\n",
    "        # 1.000, 1.000, 1.000\n",
    "    ]).astype(np.float32).reshape(-1, 3) * 255"
   ]
  },
  {
   "cell_type": "code",
   "execution_count": null,
   "id": "95176107-4a2e-45eb-9abb-86f7ee541967",
   "metadata": {},
   "outputs": [],
   "source": []
  },
  {
   "cell_type": "code",
   "execution_count": 75,
   "id": "e7bf7149-91c1-4694-adb2-8a86162c397d",
   "metadata": {},
   "outputs": [
    {
     "name": "stdout",
     "output_type": "stream",
     "text": [
      "-------------------Bag--------------------\n"
     ]
    },
    {
     "name": "stderr",
     "output_type": "stream",
     "text": [
      "100%|███████████████████████████████████████████████████████████████████████████████████████| 92/92 [00:00<00:00, 1852.38it/s]\n"
     ]
    },
    {
     "name": "stdout",
     "output_type": "stream",
     "text": [
      "-------------------Bed--------------------\n"
     ]
    },
    {
     "name": "stderr",
     "output_type": "stream",
     "text": [
      "100%|█████████████████████████████████████████████████████████████████████████████████████| 133/133 [00:00<00:00, 2598.19it/s]\n"
     ]
    },
    {
     "name": "stdout",
     "output_type": "stream",
     "text": [
      "-------------------Bottle--------------------\n"
     ]
    },
    {
     "name": "stderr",
     "output_type": "stream",
     "text": [
      "100%|█████████████████████████████████████████████████████████████████████████████████████| 315/315 [00:00<00:00, 2908.81it/s]\n"
     ]
    },
    {
     "name": "stdout",
     "output_type": "stream",
     "text": [
      "-------------------Chair--------------------\n"
     ]
    },
    {
     "name": "stderr",
     "output_type": "stream",
     "text": [
      "100%|███████████████████████████████████████████████████████████████████████████████████| 4489/4489 [00:01<00:00, 2946.51it/s]\n"
     ]
    },
    {
     "name": "stdout",
     "output_type": "stream",
     "text": [
      "-------------------Clock--------------------\n"
     ]
    },
    {
     "name": "stderr",
     "output_type": "stream",
     "text": [
      "100%|█████████████████████████████████████████████████████████████████████████████████████| 406/406 [00:00<00:00, 2942.17it/s]\n"
     ]
    },
    {
     "name": "stdout",
     "output_type": "stream",
     "text": [
      "-------------------Dishwasher--------------------\n"
     ]
    },
    {
     "name": "stderr",
     "output_type": "stream",
     "text": [
      "100%|█████████████████████████████████████████████████████████████████████████████████████| 111/111 [00:00<00:00, 2820.20it/s]\n"
     ]
    },
    {
     "name": "stdout",
     "output_type": "stream",
     "text": [
      "-------------------Display--------------------\n"
     ]
    },
    {
     "name": "stderr",
     "output_type": "stream",
     "text": [
      "100%|█████████████████████████████████████████████████████████████████████████████████████| 633/633 [00:00<00:00, 2974.80it/s]\n"
     ]
    },
    {
     "name": "stdout",
     "output_type": "stream",
     "text": [
      "-------------------Door--------------------\n"
     ]
    },
    {
     "name": "stderr",
     "output_type": "stream",
     "text": [
      "100%|█████████████████████████████████████████████████████████████████████████████████████| 149/149 [00:00<00:00, 2830.55it/s]\n"
     ]
    },
    {
     "name": "stdout",
     "output_type": "stream",
     "text": [
      "-------------------Earphone--------------------\n"
     ]
    },
    {
     "name": "stderr",
     "output_type": "stream",
     "text": [
      "100%|█████████████████████████████████████████████████████████████████████████████████████| 147/147 [00:00<00:00, 2889.36it/s]\n"
     ]
    },
    {
     "name": "stdout",
     "output_type": "stream",
     "text": [
      "-------------------Faucet--------------------\n"
     ]
    },
    {
     "name": "stderr",
     "output_type": "stream",
     "text": [
      "100%|█████████████████████████████████████████████████████████████████████████████████████| 435/435 [00:00<00:00, 2891.97it/s]\n"
     ]
    },
    {
     "name": "stdout",
     "output_type": "stream",
     "text": [
      "-------------------Hat--------------------\n"
     ]
    },
    {
     "name": "stderr",
     "output_type": "stream",
     "text": [
      "100%|█████████████████████████████████████████████████████████████████████████████████████| 170/170 [00:00<00:00, 2916.95it/s]\n"
     ]
    },
    {
     "name": "stdout",
     "output_type": "stream",
     "text": [
      "-------------------Keyboard--------------------\n"
     ]
    },
    {
     "name": "stderr",
     "output_type": "stream",
     "text": [
      "100%|█████████████████████████████████████████████████████████████████████████████████████| 111/111 [00:00<00:00, 2901.53it/s]\n"
     ]
    },
    {
     "name": "stdout",
     "output_type": "stream",
     "text": [
      "-------------------Knife--------------------\n"
     ]
    },
    {
     "name": "stderr",
     "output_type": "stream",
     "text": [
      "100%|█████████████████████████████████████████████████████████████████████████████████████| 221/221 [00:00<00:00, 2961.53it/s]\n"
     ]
    },
    {
     "name": "stdout",
     "output_type": "stream",
     "text": [
      "-------------------Lamp--------------------\n"
     ]
    },
    {
     "name": "stderr",
     "output_type": "stream",
     "text": [
      "100%|███████████████████████████████████████████████████████████████████████████████████| 1554/1554 [00:00<00:00, 3038.49it/s]\n"
     ]
    },
    {
     "name": "stdout",
     "output_type": "stream",
     "text": [
      "-------------------Laptop--------------------\n"
     ]
    },
    {
     "name": "stderr",
     "output_type": "stream",
     "text": [
      "100%|█████████████████████████████████████████████████████████████████████████████████████| 306/306 [00:00<00:00, 2918.94it/s]\n"
     ]
    },
    {
     "name": "stdout",
     "output_type": "stream",
     "text": [
      "-------------------Microwave--------------------\n"
     ]
    },
    {
     "name": "stderr",
     "output_type": "stream",
     "text": [
      "100%|█████████████████████████████████████████████████████████████████████████████████████| 133/133 [00:00<00:00, 2748.79it/s]\n"
     ]
    },
    {
     "name": "stdout",
     "output_type": "stream",
     "text": [
      "-------------------Mug--------------------\n"
     ]
    },
    {
     "name": "stderr",
     "output_type": "stream",
     "text": [
      "100%|█████████████████████████████████████████████████████████████████████████████████████| 138/138 [00:00<00:00, 2985.92it/s]\n"
     ]
    },
    {
     "name": "stdout",
     "output_type": "stream",
     "text": [
      "-------------------Refrigerator--------------------\n"
     ]
    },
    {
     "name": "stderr",
     "output_type": "stream",
     "text": [
      "100%|█████████████████████████████████████████████████████████████████████████████████████| 136/136 [00:00<00:00, 2934.54it/s]\n"
     ]
    },
    {
     "name": "stdout",
     "output_type": "stream",
     "text": [
      "-------------------Scissors--------------------\n"
     ]
    },
    {
     "name": "stderr",
     "output_type": "stream",
     "text": [
      "100%|███████████████████████████████████████████████████████████████████████████████████████| 45/45 [00:00<00:00, 2669.49it/s]\n"
     ]
    },
    {
     "name": "stdout",
     "output_type": "stream",
     "text": [
      "-------------------StorageFurniture--------------------\n"
     ]
    },
    {
     "name": "stderr",
     "output_type": "stream",
     "text": [
      "100%|███████████████████████████████████████████████████████████████████████████████████| 1588/1588 [00:00<00:00, 2998.27it/s]\n"
     ]
    },
    {
     "name": "stdout",
     "output_type": "stream",
     "text": [
      "-------------------Table--------------------\n"
     ]
    },
    {
     "name": "stderr",
     "output_type": "stream",
     "text": [
      "100%|███████████████████████████████████████████████████████████████████████████████████| 5707/5707 [00:01<00:00, 3007.15it/s]\n"
     ]
    },
    {
     "name": "stdout",
     "output_type": "stream",
     "text": [
      "-------------------TrashCan--------------------\n"
     ]
    },
    {
     "name": "stderr",
     "output_type": "stream",
     "text": [
      "100%|█████████████████████████████████████████████████████████████████████████████████████| 221/221 [00:00<00:00, 3010.59it/s]\n"
     ]
    },
    {
     "name": "stdout",
     "output_type": "stream",
     "text": [
      "-------------------Vase--------------------\n"
     ]
    },
    {
     "name": "stderr",
     "output_type": "stream",
     "text": [
      "100%|█████████████████████████████████████████████████████████████████████████████████████| 741/741 [00:00<00:00, 3081.47it/s]\n"
     ]
    }
   ],
   "source": [
    "from tqdm import tqdm\n",
    "data2class = {}\n",
    "class2data = {}\n",
    "for i in meta_data:\n",
    "    print(\"-------------------\"+i+\"--------------------\")\n",
    "    with open('/data2/llf/partnet/partnet_dataset/stats/train_val_test_split/'+i+'.train.json', 'r') as fcc_file:\n",
    "        train_data = json.load(fcc_file)\n",
    "    for data in tqdm(train_data):\n",
    "        anno_id = data['anno_id']\n",
    "        model_id = data['model_id']\n",
    "\n",
    "        data_path = os.path.join(\"/data2/llf/partnet/data_v0/\",anno_id,\"point_sample\")\n",
    "        labels = torch.load(os.path.join(data_path,\"label.pth\")).unique()\n",
    "        labels = labels[labels!=255]\n",
    "        labels = [x.item() for x in labels]\n",
    "        \n",
    "        anno_id = int(anno_id)\n",
    "        data2class[anno_id] = labels\n",
    "        for label in labels:\n",
    "            if label not in class2data:\n",
    "                class2data[label] = []\n",
    "            class2data[label].append(anno_id)\n",
    "        \n",
    "with open('./data2class.json', 'w') as f:\n",
    "    json.dump(data2class, f)\n",
    "with open('./class2data.json', 'w') as f:\n",
    "    json.dump(class2data, f)\n"
   ]
  },
  {
   "cell_type": "code",
   "execution_count": 70,
   "id": "7724886a-20bd-4b04-a2e3-1ee7626997a1",
   "metadata": {},
   "outputs": [
    {
     "data": {
      "text/plain": [
       "{9554: [0, 1, 3]}"
      ]
     },
     "execution_count": 70,
     "metadata": {},
     "output_type": "execute_result"
    }
   ],
   "source": [
    "data2class"
   ]
  },
  {
   "cell_type": "code",
   "execution_count": 71,
   "id": "60a3fdc4-bea6-422b-a492-4969b8fa27de",
   "metadata": {},
   "outputs": [
    {
     "data": {
      "text/plain": [
       "{0: [9554], 1: [9554], 3: [9554]}"
      ]
     },
     "execution_count": 71,
     "metadata": {},
     "output_type": "execute_result"
    }
   ],
   "source": [
    "class2data"
   ]
  },
  {
   "cell_type": "code",
   "execution_count": null,
   "id": "8bef0356-491d-403d-ad8a-3d61d621422c",
   "metadata": {},
   "outputs": [],
   "source": []
  }
 ],
 "metadata": {
  "kernelspec": {
   "display_name": "Python 3 (ipykernel)",
   "language": "python",
   "name": "python3"
  },
  "language_info": {
   "codemirror_mode": {
    "name": "ipython",
    "version": 3
   },
   "file_extension": ".py",
   "mimetype": "text/x-python",
   "name": "python",
   "nbconvert_exporter": "python",
   "pygments_lexer": "ipython3",
   "version": "3.10.13"
  }
 },
 "nbformat": 4,
 "nbformat_minor": 5
}
