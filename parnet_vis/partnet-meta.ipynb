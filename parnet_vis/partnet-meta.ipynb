{
 "cells": [
  {
   "cell_type": "code",
   "execution_count": 1,
   "id": "bb53bea7-038c-4a50-a8bb-a40c7a05ac78",
   "metadata": {},
   "outputs": [],
   "source": [
    "import json\n",
    "import numpy as np\n",
    "import os\n",
    "# import open3d as o3d\n",
    "\n",
    "partnete_meta = json.load(open(\"/data1/linfeng/PartSLIP/PartSLIP-main/PartNetE_meta.json\"))\n",
    "categories = partnete_meta.keys()\n",
    "tot_miou = 0\n",
    "\n",
    "# for category in categories:\n",
    "#     print(category)\n",
    "#     models = os.listdir(f\"{category}\") # list of models\n",
    "#     part_names = partnete_meta[category]\n",
    "#     cnt = np.zeros(len(part_names))\n",
    "#     cnt_iou = np.zeros(len(part_names))\n",
    "\n",
    "#     for model in models:\n",
    "#         # load gt label\n",
    "#         gt_sem_label = np.load(f\"{category}/{model}/label.npy\", allow_pickle=True).item()['semantic_seg']\n",
    "#         for i, part in enumerate(part_names):\n",
    "#             if (gt_sem_label == i).sum() == 0:\n",
    "#                 continue\n",
    "#             # load predictions\n",
    "#             pcd = o3d.io.read_point_cloud(f\"{category}/{model}/few_shot/semantic_seg/{part}.ply\")\n",
    "#             sem_pred = np.asarray(pcd.colors).sum(-1) > 0 \n",
    "#             iou = calc_iou(sem_pred, gt_sem_label == i)\n",
    "#             cnt[i] += 1\n",
    "#             cnt_iou[i] += iou\n",
    "    \n",
    "#     part_miou = cnt_iou / cnt\n",
    "#     print(category, list(zip(part_names, part_miou)))\n",
    "#     tot_miou += part_miou.mean()\n",
    "\n",
    "# print(f\"mIoU: {tot_miou / len(categories)}\")\n"
   ]
  },
  {
   "cell_type": "code",
   "execution_count": 19,
   "id": "61efd4c5-6f19-40e2-b008-3bad722f8db3",
   "metadata": {},
   "outputs": [
    {
     "data": {
      "text/plain": [
       "[0, 1, 2, 3, 4, 5, 6, 7, 8, 9]"
      ]
     },
     "execution_count": 19,
     "metadata": {},
     "output_type": "execute_result"
    }
   ],
   "source": [
    "list(range(10))"
   ]
  },
  {
   "cell_type": "code",
   "execution_count": 31,
   "id": "9c8034f1-870b-4ee5-a7e7-26e45b1df2c8",
   "metadata": {},
   "outputs": [],
   "source": [
    "partnet_classes = os.listdir(\"/data2/llf/partnet/sem_seg_h5/\")"
   ]
  },
  {
   "cell_type": "code",
   "execution_count": 17,
   "id": "f31ec446-0964-420e-9332-8bd5b1dd75de",
   "metadata": {
    "scrolled": true
   },
   "outputs": [],
   "source": [
    "partnet_classes = [x[:-2] for x in partnet_classes]"
   ]
  },
  {
   "cell_type": "code",
   "execution_count": 18,
   "id": "d75b4f25-c32b-4935-b437-dae32280d0b4",
   "metadata": {},
   "outputs": [],
   "source": [
    "part_meta = {}\n",
    "for i in categories:\n",
    "    if i in partnet_classes:\n",
    "        part_meta[i] = partnete_meta[i]"
   ]
  },
  {
   "cell_type": "code",
   "execution_count": 22,
   "id": "c88d99cd-02d9-432f-adfb-166bb16d8eac",
   "metadata": {},
   "outputs": [],
   "source": [
    "for i in (set(partnet_classes)):\n",
    "    if i not in part_meta.keys():\n",
    "        part_meta[i]=[]"
   ]
  },
  {
   "cell_type": "code",
   "execution_count": 24,
   "id": "5efcb47b-d1ee-4a51-9be6-5e5ed427f731",
   "metadata": {},
   "outputs": [
    {
     "data": {
      "text/plain": [
       "{'Bottle': ['lid'],\n",
       " 'Chair': ['arm', 'back', 'leg', 'seat', 'wheel'],\n",
       " 'Clock': ['hand'],\n",
       " 'Dishwasher': ['door', 'handle'],\n",
       " 'Display': ['base', 'screen', 'support'],\n",
       " 'Door': ['frame', 'door', 'handle'],\n",
       " 'Faucet': ['spout', 'switch'],\n",
       " 'Keyboard': ['cord', 'key'],\n",
       " 'Knife': ['blade'],\n",
       " 'Lamp': ['base', 'body', 'bulb', 'shade'],\n",
       " 'Laptop': ['keyboard', 'screen', 'shaft', 'touchpad', 'camera'],\n",
       " 'Microwave': ['display', 'door', 'handle', 'button'],\n",
       " 'Refrigerator': ['door', 'handle'],\n",
       " 'Scissors': ['blade', 'handle', 'screw'],\n",
       " 'StorageFurniture': ['door', 'drawer', 'handle'],\n",
       " 'Table': ['door', 'drawer', 'leg', 'tabletop', 'wheel', 'handle'],\n",
       " 'TrashCan': ['footpedal', 'lid', 'door'],\n",
       " 'Bag': [],\n",
       " 'Bowl': [],\n",
       " 'Earphone': [],\n",
       " 'Bed': [],\n",
       " 'Hat': [],\n",
       " 'Vase': [],\n",
       " 'Mug': []}"
      ]
     },
     "execution_count": 24,
     "metadata": {},
     "output_type": "execute_result"
    }
   ],
   "source": [
    "part_meta"
   ]
  },
  {
   "cell_type": "code",
   "execution_count": 3,
   "id": "2cf27acb-e601-44c4-9927-5a7254fcce81",
   "metadata": {},
   "outputs": [],
   "source": [
    "part_meta[\"Bag\"] = [\"body\",\"handle\",\"shoulder strap\"]\n",
    "part_meta[\"Bed\"] = [\"pillow\",\"blanket\",\"mattress\",\"leg\"]\n",
    "part_meta[\"Bottle\"] = [\"body\",\"lid\",\"handle\"]\n",
    "part_meta[\"Chair\"] = ['arm', 'back', 'leg', 'seat', 'wheel']\n",
    "part_meta[\"Clock\"] = ['screen']\n",
    "part_meta['Dishwasher'] = ['door', 'handle']\n",
    "part_meta[\"Display\"] = ['base', 'screen', 'support']\n",
    "part_meta[\"Door\"] = ['frame', 'door', 'handle']\n",
    "part_meta[\"Earphone\"] = ['wire','band']\n",
    "part_meta[\"Faucet\"] = ['spout', 'switch']\n",
    "part_meta[\"Hat\"] = []\n",
    "part_meta[\"Keyboard\"] = [\"key\"]\n",
    "part_meta[\"Knife\"] = [\"blade\"]\n",
    "part_meta[\"Lamp\"] = ['base', 'body', 'bulb', 'shade']\n",
    "part_meta['Laptop'] = ['keyboard', 'screen',  'touchpad']\n",
    "part_meta['Microwave'] = ['tray', 'door', 'handle']\n",
    "part_meta[\"Mug\"] = ['handle']\n",
    "part_meta[\"Refrigerator\"] = ['door','handle','shelf']\n",
    "part_meta[\"Scissors\"] = ['blade',\"handle\"]\n",
    "part_meta['StorageFurniture'] = ['door', 'drawer', 'handle']\n",
    "part_meta['Table'] = ['door', 'drawer', 'leg', 'tabletop', 'wheel', 'handle']\n",
    "part_meta['TrashCan'] = ['lid']\n",
    "part_meta['Vase'] = {'lid':['lid'],'container':['container']}"
   ]
  },
  {
   "cell_type": "code",
   "execution_count": 13,
   "id": "3f2daa39-cd7a-4d22-b2a0-1afc330b8743",
   "metadata": {},
   "outputs": [],
   "source": [
    "import json\n",
    "with open(\"./part_meta.json\",'w') as f:\n",
    "    json.dump(part_meta,f) "
   ]
  },
  {
   "cell_type": "code",
   "execution_count": 6,
   "id": "ad9bf01d-9368-449b-85a8-392a2a1a91eb",
   "metadata": {},
   "outputs": [],
   "source": [
    "part_meta = {}"
   ]
  },
  {
   "cell_type": "code",
   "execution_count": 10,
   "id": "ff83ad6a-9d52-4c58-8d9e-1045477df890",
   "metadata": {},
   "outputs": [
    {
     "ename": "SyntaxError",
     "evalue": "invalid syntax (2168432915.py, line 22)",
     "output_type": "error",
     "traceback": [
      "\u001b[0;36m  Cell \u001b[0;32mIn[10], line 22\u001b[0;36m\u001b[0m\n\u001b[0;31m    part_meta['StorageFurniture'] = {'door':[\"cabinet_door_surface\"], 'drawer':'drawer':[\"drawer_front\",\"drawer_side\",\"drawer_back\",\"drawer_bottom\"], 'handle':[\"handle\"]}\u001b[0m\n\u001b[0m                                                                                       ^\u001b[0m\n\u001b[0;31mSyntaxError\u001b[0m\u001b[0;31m:\u001b[0m invalid syntax\n"
     ]
    }
   ],
   "source": [
    "part_meta[\"Bag\"] = {\"handle\":[\"handle\"],\"shoulder_strap\":[\"shoulder_strap\"],\"zipper\":[\"zipper\"],\"body\":[\"bag_body\"]}\n",
    "part_meta[\"Bed\"] = {\"pillow\":[\"pillow\"],\"blanket\":[\"blanket\"],\"mattress\":[\"mattress\"],\"leg\":[\"leg\"]}\n",
    "part_meta[\"Bottle\"] = {\"lid\":[\"lid\"],\"handle\":[\"body_handle\"]}\n",
    "part_meta[\"Chair\"] = {'arm':[\"armrest_hard_surface\",\"armrest_soft_surface\",\"arm_horizontal_bar\",\"arm_vertical_bar\",\"arm_slant_bar\",\"arm_holistic_frame\",\"arm_sofa_style\",\"arm_writing_table\"],\n",
    "                      'back':[\"back_hard_surface\",\"back_soft_surface\",\"back_surface_vertical_bar\",\"back_surface_horizontal_bar\",\"back_surface_slant_bar\",\"back_complex_decoration\"], \n",
    "                      'leg':[\"leg\"], 'seat':[\"seat_hard_surface\",\"seat_soft_surface\"], 'wheel':[\"wheel\"]}\n",
    "part_meta[\"Clock\"] = {'hand':['hand'],'screen':['screen']}\n",
    "part_meta['Dishwasher'] = {'door':[\"door_frame\",\"glass\"], 'handle':[\"handle\"]}\n",
    "part_meta[\"Display\"] = {'base':['foot','surface'], 'screen':['screen'],'button':['button'] ,'support':['base_support']}\n",
    "part_meta[\"Door\"] = {'frame':[\"outside_frame\"], 'door':[\"surface_board\"], 'handle':[\"fixed_part\",\"movable_part\"]}\n",
    "part_meta[\"Earphone\"] = {'earbud':['earbud_frame','earbud_pad'],'earpad':['earcup_frame','earcup_pad']}\n",
    "part_meta[\"Faucet\"] = {'spout':['tube','head','mouth'], 'switch':['switch']}\n",
    "part_meta[\"Hat\"] = []\n",
    "part_meta[\"Keyboard\"] = {\"key\":['key']}\n",
    "part_meta[\"Knife\"] = {\"blade\":[\"blade\"],\"handle\":[\"handle\"]}\n",
    "part_meta[\"Lamp\"] = ['base', 'body', 'bulb', 'shade']\n",
    "part_meta['Laptop'] = {'keyboard':['keyboard'], 'screen':['screen'], 'touchpad':['button','touchpad']}\n",
    "part_meta['Microwave'] = {'tray':['tray'], 'handle':['handle'],'door':['door_frame','glass'],'button':['door_button','control_button','door_button']}\n",
    "part_meta[\"Mug\"] = {'handle':['handle'],'lid':['lid']}\n",
    "part_meta[\"Refrigerator\"] = {'door':['door_frame','glass'], \"drawer\":[\"drawer_back\",\"drawer_bottom\",\"drawer_front\",\"drawer_side\"], 'handle':['handle']}\n",
    "part_meta[\"Scissors\"] = {'blade':['blade'],\"handle\":[\"handle\"]}\n",
    "part_meta['StorageFurniture'] = {'door':[\"cabinet_door_surface\"], 'drawer':'drawer':[\"drawer_front\",\"drawer_side\",\"drawer_back\",\"drawer_bottom\"], 'handle':[\"handle\"]}\n",
    "# part_meta['Table'] = {'door':[\"cabinet_door_surface\"], 'drawer':[\"drawer_front\",\"drawer_side\",\"drawer_back\",\"drawer_bottom\"], \n",
    "                      # 'leg':['leg','foot'], 'tabletop':[], 'wheel':['wheel'], 'handle':[]}\n",
    "part_meta['Table'] = {'tabletop':['tabletop'],'door':['cabinet_door'],\"handle\":[\"handle\"],\"leg\":[\"leg\"],\"drawer\":[\"drawer\"]}\n",
    "part_meta['TrashCan'] = {'cover':['cover_lid','cover_handle','cover_frame']}\n",
    "part_meta['Vase'] = {'lid':['lid']}"
   ]
  },
  {
   "cell_type": "code",
   "execution_count": 12,
   "id": "ee330305-aca8-40c8-9546-aa27e072fd9b",
   "metadata": {},
   "outputs": [],
   "source": [
    "part_meta[\"Bag\"] = {\"handle\":[\"handle\"],\"shoulder_strap\":[\"shoulder_strap\"],\"zipper\":[\"zipper\"],\"body\":[\"bag_body\"]}\n",
    "part_meta[\"Bed\"] = {\"pillow\":[\"pillow\"],\"blanket\":[\"blanket\"],\"mattress\":[\"mattress\"],\"leg\":[\"leg\"]}\n",
    "part_meta[\"Bottle\"] = {\"lid\":[\"lid\"],\"handle\":[\"body_handle\"]}\n",
    "part_meta[\"Chair\"] = {'arm':[[\"chair_arm\"],[\"arm_connector\"]],\n",
    "                      'back':[[\"chair_back\"],[\"back_connector\"]], \n",
    "                      'leg':[\"leg\"], 'seat':[\"chair_seat\"], 'wheel':[\"caster\"]}\n",
    "part_meta[\"Clock\"] = {'hand':['hand'],'screen':['screen']}\n",
    "part_meta['Dishwasher'] = {'door':[\"door\"], 'handle':[\"handle\"]}\n",
    "part_meta[\"Display\"] = {'base':['surface'], 'screen':['screen'],'button':['button'] ,'support':['base_support']}\n",
    "part_meta[\"Door\"] = {'frame':[\"outside_frame\"], 'door':[\"surface_board\"], 'handle':[\"handle\"]}\n",
    "part_meta[\"Earphone\"] = {'earbud':['earbud_frame','earbud_pad'],'earpad':['earcup_frame','earcup_pad']}\n",
    "part_meta[\"Faucet\"] = {'spout':['spout'], 'switch':['switch']}\n",
    "part_meta[\"Hat\"] = []\n",
    "part_meta[\"Keyboard\"] = {\"key\":['key']}\n",
    "part_meta[\"Knife\"] = {\"blade\":[\"blade_side\"],\"handle\":[\"handle_side\"]}\n",
    "part_meta[\"Lamp\"] = {'switch':['switch'], 'body':['lamp_body'], 'bulb':[\"light_bulb\"], 'shade':[\"lamp_base\"]}\n",
    "part_meta['Laptop'] = {'keyboard':['keyboard'], 'screen':['screen'], 'touchpad':['touchpad'],\"camera\":[\"camera\"]}\n",
    "part_meta['Microwave'] = {'tray':['tray'], 'display_panel':['display_panel'],'handle':['handle'],'door':['door'],'button':['control_button','door_button']}\n",
    "part_meta[\"Mug\"] = {'handle':['handle'],'lid':['lid']}\n",
    "part_meta[\"Refrigerator\"] = {'door':['door'], \"drawer\":[\"drawer_back\",\"drawer_bottom\",\"drawer_front\",\"drawer_side\"], 'handle':['handle']}\n",
    "part_meta[\"Scissors\"] = {'blade':['blade'],\"handle\":[\"handle\"]}\n",
    "part_meta['StorageFurniture'] = {'door':[\"cabinet_door\"], 'drawer':[\"drawer_front\",\"drawer_side\",\"drawer_back\",\"drawer_bottom\"], 'handle':[\"handle\"]}\n",
    "part_meta['Table'] = {'tabletop':['tabletop'],'door':['cabinet_door'],\"handle\":[\"handle\"],\"leg\":[\"leg\"],\"drawer\":[\"drawer_front\",\"drawer_side\",\"drawer_back\",\"drawer_bottom\"],'wheel':['caster']}\n",
    "part_meta['TrashCan'] = {'cover':['cover'],'wheel':['caster']}\n",
    "part_meta['Vase'] = {'lid':['lid']}"
   ]
  },
  {
   "cell_type": "code",
   "execution_count": null,
   "id": "8d52e8dc-7fb4-434f-8cc8-0d7beff24dcb",
   "metadata": {},
   "outputs": [],
   "source": []
  }
 ],
 "metadata": {
  "kernelspec": {
   "display_name": "Python 3 (ipykernel)",
   "language": "python",
   "name": "python3"
  },
  "language_info": {
   "codemirror_mode": {
    "name": "ipython",
    "version": 3
   },
   "file_extension": ".py",
   "mimetype": "text/x-python",
   "name": "python",
   "nbconvert_exporter": "python",
   "pygments_lexer": "ipython3",
   "version": "3.10.13"
  }
 },
 "nbformat": 4,
 "nbformat_minor": 5
}
