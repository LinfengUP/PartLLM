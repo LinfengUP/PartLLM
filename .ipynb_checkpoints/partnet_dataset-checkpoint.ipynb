{
 "cells": [
  {
   "cell_type": "code",
   "execution_count": 1,
   "id": "d6ac72a3-bc6b-4d8b-aaf0-23568d8f7f81",
   "metadata": {},
   "outputs": [],
   "source": [
    "import os\n",
    "import json\n",
    "import warnings\n",
    "import numpy as np\n",
    "from torch.utils.data import Dataset"
   ]
  },
  {
   "cell_type": "code",
   "execution_count": 2,
   "id": "d4ff7f1e-0281-4172-8952-d2593aa56582",
   "metadata": {},
   "outputs": [],
   "source": [
    "def pc_normalize(pc):\n",
    "    centroid = np.mean(pc, axis=0)\n",
    "    pc = pc - centroid\n",
    "    m = np.max(np.sqrt(np.sum(pc ** 2, axis=1)))\n",
    "    pc = pc / m\n",
    "    return pc"
   ]
  },
  {
   "cell_type": "code",
   "execution_count": 7,
   "id": "00f7eb2d-c14f-4304-80f4-9565fd374630",
   "metadata": {},
   "outputs": [],
   "source": [
    "class PartNormalDataset(Dataset):\n",
    "    def __init__(self,root = '/data1/linfeng/shapenetcore_partanno_segmentation_benchmark_v0_normal', npoints=2500, split='train', class_choice=None, normal_channel=True):\n",
    "        self.npoints = npoints\n",
    "        self.root = root\n",
    "        self.catfile = os.path.join(self.root, 'synsetoffset2category.txt')\n",
    "        self.cat = {}\n",
    "        self.normal_channel = normal_channel\n",
    "\n",
    "\n",
    "        with open(self.catfile, 'r') as f:\n",
    "            for line in f:\n",
    "                ls = line.strip().split()\n",
    "                self.cat[ls[0]] = ls[1]\n",
    "        self.cat = {k: v for k, v in self.cat.items()}\n",
    "        self.classes_original = dict(zip(self.cat, range(len(self.cat))))\n",
    "\n",
    "        if not class_choice is  None:\n",
    "            self.cat = {k:v for k,v in self.cat.items() if k in class_choice}\n",
    "        # print(self.cat)\n",
    "\n",
    "        self.meta = {}\n",
    "        with open(os.path.join(self.root, 'train_test_split', 'shuffled_train_file_list.json'), 'r') as f:\n",
    "            train_ids = set([str(d.split('/')[2]) for d in json.load(f)])\n",
    "        with open(os.path.join(self.root, 'train_test_split', 'shuffled_val_file_list.json'), 'r') as f:\n",
    "            val_ids = set([str(d.split('/')[2]) for d in json.load(f)])\n",
    "        with open(os.path.join(self.root, 'train_test_split', 'shuffled_test_file_list.json'), 'r') as f:\n",
    "            test_ids = set([str(d.split('/')[2]) for d in json.load(f)])\n",
    "        for item in self.cat:\n",
    "            # print('category', item)\n",
    "            self.meta[item] = []\n",
    "            dir_point = os.path.join(self.root, self.cat[item])\n",
    "            fns = sorted(os.listdir(dir_point))\n",
    "            # print(fns[0][0:-4])\n",
    "            if split == 'trainval':\n",
    "                fns = [fn for fn in fns if ((fn[0:-4] in train_ids) or (fn[0:-4] in val_ids))]\n",
    "            elif split == 'train':\n",
    "                fns = [fn for fn in fns if fn[0:-4] in train_ids]\n",
    "            elif split == 'val':\n",
    "                fns = [fn for fn in fns if fn[0:-4] in val_ids]\n",
    "            elif split == 'test':\n",
    "                fns = [fn for fn in fns if fn[0:-4] in test_ids]\n",
    "            else:\n",
    "                print('Unknown split: %s. Exiting..' % (split))\n",
    "                exit(-1)\n",
    "\n",
    "            # print(os.path.basename(fns))\n",
    "            for fn in fns:\n",
    "                token = (os.path.splitext(os.path.basename(fn))[0])\n",
    "                self.meta[item].append(os.path.join(dir_point, token + '.txt'))\n",
    "\n",
    "        self.datapath = []\n",
    "        for item in self.cat:\n",
    "            for fn in self.meta[item]:\n",
    "                self.datapath.append((item, fn))\n",
    "\n",
    "        self.classes = {}\n",
    "        for i in self.cat.keys():\n",
    "            self.classes[i] = self.classes_original[i]\n",
    "\n",
    "        # Mapping from category ('Chair') to a list of int [10,11,12,13] as segmentation labels\n",
    "        self.seg_classes = {'Earphone': [16, 17, 18], 'Motorbike': [30, 31, 32, 33, 34, 35], 'Rocket': [41, 42, 43],\n",
    "                            'Car': [8, 9, 10, 11], 'Laptop': [28, 29], 'Cap': [6, 7], 'Skateboard': [44, 45, 46],\n",
    "                            'Mug': [36, 37], 'Guitar': [19, 20, 21], 'Bag': [4, 5], 'Lamp': [24, 25, 26, 27],\n",
    "                            'Table': [47, 48, 49], 'Airplane': [0, 1, 2, 3], 'Pistol': [38, 39, 40],\n",
    "                            'Chair': [12, 13, 14, 15], 'Knife': [22, 23]}\n",
    "\n",
    "        # for cat in sorted(self.seg_classes.keys()):\n",
    "        #     print(cat, self.seg_classes[cat])\n",
    "\n",
    "        self.cache = {}  # from index to (point_set, cls, seg) tuple\n",
    "        self.cache_size = 20000\n",
    "\n",
    "\n",
    "    def __getitem__(self, index):\n",
    "        if index in self.cache:\n",
    "            point_set, cls, seg = self.cache[index]\n",
    "        else:\n",
    "            fn = self.datapath[index]\n",
    "            cat = self.datapath[index][0]\n",
    "            cls = self.classes[cat]\n",
    "            cls = np.array([cls]).astype(np.int32)\n",
    "            data = np.loadtxt(fn[1]).astype(np.float32)\n",
    "            if not self.normal_channel:\n",
    "                point_set = data[:, 0:3]\n",
    "            else:\n",
    "                point_set = data[:, 0:6]\n",
    "            seg = data[:, -1].astype(np.int32)\n",
    "            if len(self.cache) < self.cache_size:\n",
    "                self.cache[index] = (point_set, cls, seg)\n",
    "        point_set[:, 0:3] = pc_normalize(point_set[:, 0:3])\n",
    "\n",
    "        choice = np.random.choice(len(seg), self.npoints, replace=True)\n",
    "        # resample\n",
    "        point_set = point_set[choice, :]\n",
    "        seg = seg[choice]\n",
    "\n",
    "        return point_set, cls, seg\n",
    "\n",
    "    def __len__(self):\n",
    "        return len(self.datapath)"
   ]
  },
  {
   "cell_type": "code",
   "execution_count": 31,
   "id": "67da5706-7092-4779-acfc-f716579f6657",
   "metadata": {},
   "outputs": [],
   "source": [
    "m = PartNormalDataset(npoints=8192,normal_channel=True)"
   ]
  },
  {
   "cell_type": "code",
   "execution_count": 32,
   "id": "279a943a-dfe2-49d9-ac73-07ee102fea90",
   "metadata": {},
   "outputs": [],
   "source": [
    "_,cls,x=m[10000]"
   ]
  },
  {
   "cell_type": "code",
   "execution_count": 30,
   "id": "10f47941-0464-468e-a354-75af16761d4f",
   "metadata": {},
   "outputs": [
    {
     "data": {
      "text/plain": [
       "array([15], dtype=int32)"
      ]
     },
     "execution_count": 30,
     "metadata": {},
     "output_type": "execute_result"
    }
   ],
   "source": [
    "cls"
   ]
  },
  {
   "cell_type": "code",
   "execution_count": 2,
   "id": "e858a941-42c7-4bbe-a853-9b76231a75d8",
   "metadata": {},
   "outputs": [],
   "source": [
    "import random"
   ]
  },
  {
   "cell_type": "code",
   "execution_count": 4,
   "id": "b1a7d85e-41e7-4e8f-b37a-d983a22995f3",
   "metadata": {},
   "outputs": [],
   "source": [
    "x = random.randint(0,10)"
   ]
  },
  {
   "cell_type": "code",
   "execution_count": 5,
   "id": "a0b3822b-c597-4997-9f55-f4f1af8b9595",
   "metadata": {},
   "outputs": [
    {
     "data": {
      "text/plain": [
       "2"
      ]
     },
     "execution_count": 5,
     "metadata": {},
     "output_type": "execute_result"
    }
   ],
   "source": [
    "x"
   ]
  },
  {
   "cell_type": "code",
   "execution_count": null,
   "id": "efffa338-83aa-44b7-87ae-6ec1a86a2d87",
   "metadata": {},
   "outputs": [],
   "source": []
  }
 ],
 "metadata": {
  "kernelspec": {
   "display_name": "Python 3 (ipykernel)",
   "language": "python",
   "name": "python3"
  },
  "language_info": {
   "codemirror_mode": {
    "name": "ipython",
    "version": 3
   },
   "file_extension": ".py",
   "mimetype": "text/x-python",
   "name": "python",
   "nbconvert_exporter": "python",
   "pygments_lexer": "ipython3",
   "version": "3.10.13"
  }
 },
 "nbformat": 4,
 "nbformat_minor": 5
}
