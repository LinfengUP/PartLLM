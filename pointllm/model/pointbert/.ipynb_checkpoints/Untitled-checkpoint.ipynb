{
 "cells": [
  {
   "cell_type": "code",
   "execution_count": 1,
   "id": "d296386e-a0e0-4f96-8d0a-a77c422c7073",
   "metadata": {},
   "outputs": [],
   "source": [
    "class a():\n",
    "    def __int__(self):\n",
    "        print(\"this is a\")\n",
    "class b():\n",
    "    def __int__(self):\n",
    "        print(\"this is b\")"
   ]
  },
  {
   "cell_type": "code",
   "execution_count": null,
   "id": "2bfc3096-4aea-4647-aaee-a4126742be4e",
   "metadata": {},
   "outputs": [],
   "source": [
    "class c(a,b):\n",
    "    def __init__(self):\n",
    "        super().__init()\n",
    "        "
   ]
  }
 ],
 "metadata": {
  "kernelspec": {
   "display_name": "Python 3 (ipykernel)",
   "language": "python",
   "name": "python3"
  },
  "language_info": {
   "codemirror_mode": {
    "name": "ipython",
    "version": 3
   },
   "file_extension": ".py",
   "mimetype": "text/x-python",
   "name": "python",
   "nbconvert_exporter": "python",
   "pygments_lexer": "ipython3",
   "version": "3.10.13"
  }
 },
 "nbformat": 4,
 "nbformat_minor": 5
}
