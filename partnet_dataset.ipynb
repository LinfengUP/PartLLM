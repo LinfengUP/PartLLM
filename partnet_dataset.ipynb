{
 "cells": [
  {
   "cell_type": "code",
   "execution_count": 1,
   "id": "d6ac72a3-bc6b-4d8b-aaf0-23568d8f7f81",
   "metadata": {},
   "outputs": [],
   "source": [
    "import os\n",
    "import json\n",
    "import warnings\n",
    "import numpy as np\n",
    "from torch.utils.data import Dataset"
   ]
  },
  {
   "cell_type": "code",
   "execution_count": 2,
   "id": "d4ff7f1e-0281-4172-8952-d2593aa56582",
   "metadata": {},
   "outputs": [],
   "source": [
    "def pc_normalize(pc):\n",
    "    centroid = np.mean(pc, axis=0)\n",
    "    pc = pc - centroid\n",
    "    m = np.max(np.sqrt(np.sum(pc ** 2, axis=1)))\n",
    "    pc = pc / m\n",
    "    return pc"
   ]
  },
  {
   "cell_type": "code",
   "execution_count": 7,
   "id": "00f7eb2d-c14f-4304-80f4-9565fd374630",
   "metadata": {},
   "outputs": [],
   "source": [
    "class PartNormalDataset(Dataset):\n",
    "    def __init__(self,root = '/data1/linfeng/shapenetcore_partanno_segmentation_benchmark_v0_normal', npoints=2500, split='train', class_choice=None, normal_channel=True):\n",
    "        self.npoints = npoints\n",
    "        self.root = root\n",
    "        self.catfile = os.path.join(self.root, 'synsetoffset2category.txt')\n",
    "        self.cat = {}\n",
    "        self.normal_channel = normal_channel\n",
    "\n",
    "\n",
    "        with open(self.catfile, 'r') as f:\n",
    "            for line in f:\n",
    "                ls = line.strip().split()\n",
    "                self.cat[ls[0]] = ls[1]\n",
    "        self.cat = {k: v for k, v in self.cat.items()}\n",
    "        self.classes_original = dict(zip(self.cat, range(len(self.cat))))\n",
    "\n",
    "        if not class_choice is  None:\n",
    "            self.cat = {k:v for k,v in self.cat.items() if k in class_choice}\n",
    "        # print(self.cat)\n",
    "\n",
    "        self.meta = {}\n",
    "        with open(os.path.join(self.root, 'train_test_split', 'shuffled_train_file_list.json'), 'r') as f:\n",
    "            train_ids = set([str(d.split('/')[2]) for d in json.load(f)])\n",
    "        with open(os.path.join(self.root, 'train_test_split', 'shuffled_val_file_list.json'), 'r') as f:\n",
    "            val_ids = set([str(d.split('/')[2]) for d in json.load(f)])\n",
    "        with open(os.path.join(self.root, 'train_test_split', 'shuffled_test_file_list.json'), 'r') as f:\n",
    "            test_ids = set([str(d.split('/')[2]) for d in json.load(f)])\n",
    "        for item in self.cat:\n",
    "            # print('category', item)\n",
    "            self.meta[item] = []\n",
    "            dir_point = os.path.join(self.root, self.cat[item])\n",
    "            fns = sorted(os.listdir(dir_point))\n",
    "            # print(fns[0][0:-4])\n",
    "            if split == 'trainval':\n",
    "                fns = [fn for fn in fns if ((fn[0:-4] in train_ids) or (fn[0:-4] in val_ids))]\n",
    "            elif split == 'train':\n",
    "                fns = [fn for fn in fns if fn[0:-4] in train_ids]\n",
    "            elif split == 'val':\n",
    "                fns = [fn for fn in fns if fn[0:-4] in val_ids]\n",
    "            elif split == 'test':\n",
    "                fns = [fn for fn in fns if fn[0:-4] in test_ids]\n",
    "            else:\n",
    "                print('Unknown split: %s. Exiting..' % (split))\n",
    "                exit(-1)\n",
    "\n",
    "            # print(os.path.basename(fns))\n",
    "            for fn in fns:\n",
    "                token = (os.path.splitext(os.path.basename(fn))[0])\n",
    "                self.meta[item].append(os.path.join(dir_point, token + '.txt'))\n",
    "\n",
    "        self.datapath = []\n",
    "        for item in self.cat:\n",
    "            for fn in self.meta[item]:\n",
    "                self.datapath.append((item, fn))\n",
    "\n",
    "        self.classes = {}\n",
    "        for i in self.cat.keys():\n",
    "            self.classes[i] = self.classes_original[i]\n",
    "\n",
    "        # Mapping from category ('Chair') to a list of int [10,11,12,13] as segmentation labels\n",
    "        self.seg_classes = {'Earphone': [16, 17, 18], 'Motorbike': [30, 31, 32, 33, 34, 35], 'Rocket': [41, 42, 43],\n",
    "                            'Car': [8, 9, 10, 11], 'Laptop': [28, 29], 'Cap': [6, 7], 'Skateboard': [44, 45, 46],\n",
    "                            'Mug': [36, 37], 'Guitar': [19, 20, 21], 'Bag': [4, 5], 'Lamp': [24, 25, 26, 27],\n",
    "                            'Table': [47, 48, 49], 'Airplane': [0, 1, 2, 3], 'Pistol': [38, 39, 40],\n",
    "                            'Chair': [12, 13, 14, 15], 'Knife': [22, 23]}\n",
    "\n",
    "        # for cat in sorted(self.seg_classes.keys()):\n",
    "        #     print(cat, self.seg_classes[cat])\n",
    "\n",
    "        self.cache = {}  # from index to (point_set, cls, seg) tuple\n",
    "        self.cache_size = 20000\n",
    "\n",
    "\n",
    "    def __getitem__(self, index):\n",
    "        if index in self.cache:\n",
    "            point_set, cls, seg = self.cache[index]\n",
    "        else:\n",
    "            fn = self.datapath[index]\n",
    "            cat = self.datapath[index][0]\n",
    "            cls = self.classes[cat]\n",
    "            cls = np.array([cls]).astype(np.int32)\n",
    "            data = np.loadtxt(fn[1]).astype(np.float32)\n",
    "            if not self.normal_channel:\n",
    "                point_set = data[:, 0:3]\n",
    "            else:\n",
    "                point_set = data[:, 0:6]\n",
    "            seg = data[:, -1].astype(np.int32)\n",
    "            if len(self.cache) < self.cache_size:\n",
    "                self.cache[index] = (point_set, cls, seg)\n",
    "        point_set[:, 0:3] = pc_normalize(point_set[:, 0:3])\n",
    "\n",
    "        choice = np.random.choice(len(seg), self.npoints, replace=True)\n",
    "        # resample\n",
    "        point_set = point_set[choice, :]\n",
    "        seg = seg[choice]\n",
    "\n",
    "        return point_set, cls, seg\n",
    "\n",
    "    def __len__(self):\n",
    "        return len(self.datapath)"
   ]
  },
  {
   "cell_type": "code",
   "execution_count": 31,
   "id": "67da5706-7092-4779-acfc-f716579f6657",
   "metadata": {},
   "outputs": [],
   "source": [
    "m = PartNormalDataset(npoints=8192,normal_channel=True)"
   ]
  },
  {
   "cell_type": "code",
   "execution_count": 32,
   "id": "279a943a-dfe2-49d9-ac73-07ee102fea90",
   "metadata": {},
   "outputs": [],
   "source": [
    "_,cls,x=m[10000]"
   ]
  },
  {
   "cell_type": "code",
   "execution_count": 30,
   "id": "10f47941-0464-468e-a354-75af16761d4f",
   "metadata": {},
   "outputs": [
    {
     "data": {
      "text/plain": [
       "array([15], dtype=int32)"
      ]
     },
     "execution_count": 30,
     "metadata": {},
     "output_type": "execute_result"
    }
   ],
   "source": [
    "cls"
   ]
  },
  {
   "cell_type": "code",
   "execution_count": 2,
   "id": "e858a941-42c7-4bbe-a853-9b76231a75d8",
   "metadata": {},
   "outputs": [],
   "source": [
    "import random"
   ]
  },
  {
   "cell_type": "code",
   "execution_count": 4,
   "id": "b1a7d85e-41e7-4e8f-b37a-d983a22995f3",
   "metadata": {},
   "outputs": [],
   "source": [
    "x = random.randint(0,10)"
   ]
  },
  {
   "cell_type": "code",
   "execution_count": 5,
   "id": "a0b3822b-c597-4997-9f55-f4f1af8b9595",
   "metadata": {},
   "outputs": [
    {
     "data": {
      "text/plain": [
       "2"
      ]
     },
     "execution_count": 5,
     "metadata": {},
     "output_type": "execute_result"
    }
   ],
   "source": [
    "x"
   ]
  },
  {
   "cell_type": "code",
   "execution_count": 2,
   "id": "efffa338-83aa-44b7-87ae-6ec1a86a2d87",
   "metadata": {},
   "outputs": [],
   "source": [
    "import json\n",
    "data_dir = \"/data2/llf/partnet/data_v0/\"\n",
    "data_list = os.listdir(data_dir)\n",
    "data_path = os.path.join(data_dir,data_list[100])\n",
    "result_path = os.path.join(data_path,\"result.json\")\n",
    "result_merge_path = os.path.join(data_path,\"result_after_merging.json\")\n",
    "with open(result_path, 'r') as fcc_file:\n",
    "     result= json.load(fcc_file)\n",
    "with open(result_merge_path, 'r') as fcc_file:\n",
    "     result_merge= json.load(fcc_file)\n"
   ]
  },
  {
   "cell_type": "code",
   "execution_count": 24,
   "id": "715f68df-7465-48fe-ba85-cc7fd1a9a717",
   "metadata": {},
   "outputs": [
    {
     "data": {
      "text/plain": [
       "'table'"
      ]
     },
     "execution_count": 24,
     "metadata": {},
     "output_type": "execute_result"
    }
   ],
   "source": [
    "result[0]['name']"
   ]
  },
  {
   "cell_type": "code",
   "execution_count": 34,
   "id": "d078ea86-eb52-4b7f-9dda-9b148f95f5ec",
   "metadata": {},
   "outputs": [
    {
     "name": "stdout",
     "output_type": "stream",
     "text": [
      "{'text': 'Desk', 'children': [{'text': 'Tabletop', 'children': [{'text': 'Tabletop surface', 'children': [{'text': 'Board', 'objs': ['new-14'], 'id': 45, 'name': 'board'}], 'id': 44, 'name': 'tabletop_surface'}], 'id': 2, 'name': 'tabletop'}, {'text': 'Drawer Base', 'children': [{'text': 'Vertical side panel', 'objs': ['new-9'], 'id': 26, 'name': 'vertical_side_panel'}, {'text': 'Vertical side panel', 'objs': ['new-13', 'new-12'], 'id': 27, 'name': 'vertical_side_panel'}, {'text': 'Vertical side panel', 'objs': ['new-8'], 'id': 28, 'name': 'vertical_side_panel'}, {'text': 'Vertical side panel', 'objs': ['new-11', 'new-10'], 'id': 29, 'name': 'vertical_side_panel'}, {'text': 'Leg', 'objs': ['new-4', 'original-14'], 'id': 30, 'name': 'leg'}, {'text': 'Leg', 'objs': ['new-5'], 'id': 31, 'name': 'leg'}, {'text': 'Leg', 'objs': ['new-2'], 'id': 32, 'name': 'leg'}, {'text': 'Leg', 'objs': ['new-3', 'original-21'], 'id': 33, 'name': 'leg'}, {'text': 'Bar Stretcher', 'objs': ['new-1'], 'id': 34, 'name': 'bar_stretcher'}, {'text': 'Bar Stretcher', 'objs': ['new-0'], 'id': 35, 'name': 'bar_stretcher'}, {'text': 'Bar Stretcher', 'objs': ['original-6', 'original-17', 'original-16'], 'id': 36, 'name': 'bar_stretcher'}, {'text': 'Bar Stretcher', 'objs': ['original-7', 'original-15'], 'id': 37, 'name': 'bar_stretcher'}, {'text': 'Bar Stretcher', 'objs': ['original-12', 'original-5', 'original-4'], 'id': 38, 'name': 'bar_stretcher'}, {'text': 'Bar Stretcher', 'objs': ['original-13', 'original-2', 'original-8'], 'id': 39, 'name': 'bar_stretcher'}, {'text': 'Bar Stretcher', 'objs': ['original-9', 'original-11', 'original-10'], 'id': 40, 'name': 'bar_stretcher'}, {'text': 'Bar Stretcher', 'objs': ['original-18', 'original-19', 'original-3'], 'id': 41, 'name': 'bar_stretcher'}, {'text': 'Tabletop Connector', 'objs': ['new-6'], 'id': 42, 'name': 'tabletop_connector'}, {'text': 'Tabletop Connector', 'objs': ['new-7'], 'id': 43, 'name': 'tabletop_connector'}], 'id': 3, 'name': 'drawer_base'}], 'id': 1, 'name': 'desk'}\n"
     ]
    }
   ],
   "source": [
    "for i in result[0]['children']:\n",
    "    print(i)"
   ]
  },
  {
   "cell_type": "code",
   "execution_count": 13,
   "id": "fb0f4fb6-ec76-456e-9ddb-ee35363f2535",
   "metadata": {},
   "outputs": [
    {
     "name": "stdout",
     "output_type": "stream",
     "text": [
      "[29 13 29 ... 26 13 13]\n"
     ]
    }
   ],
   "source": [
    "import h5py\n",
    "data_dir = \"/data2/llf/partnet/sem_seg_h5\"\n",
    "class_dir = os.listdir(data_dir)\n",
    "for class_name in class_dir:\n",
    "    f = h5py.File(os.path.join(data_dir,class_name,\"train-00.h5\"), 'r')\n",
    "    # for key in f.keys():\n",
    "    #     print(f[])\n",
    "    print(f['label_seg'][0])\n",
    "    break"
   ]
  },
  {
   "cell_type": "code",
   "execution_count": 27,
   "id": "c8a5a7af-e210-454a-9b79-e2b06ec3c960",
   "metadata": {},
   "outputs": [
    {
     "ename": "AttributeError",
     "evalue": "'Dataset' object has no attribute 'data'",
     "output_type": "error",
     "traceback": [
      "\u001b[0;31m---------------------------------------------------------------------------\u001b[0m",
      "\u001b[0;31mAttributeError\u001b[0m                            Traceback (most recent call last)",
      "Cell \u001b[0;32mIn[27], line 1\u001b[0m\n\u001b[0;32m----> 1\u001b[0m \u001b[38;5;28mset\u001b[39m(\u001b[43mf\u001b[49m\u001b[43m[\u001b[49m\u001b[38;5;124;43m'\u001b[39;49m\u001b[38;5;124;43mlabel_seg\u001b[39;49m\u001b[38;5;124;43m'\u001b[39;49m\u001b[43m]\u001b[49m\u001b[38;5;241;43m.\u001b[39;49m\u001b[43mdata\u001b[49m\u001b[38;5;241m.\u001b[39mreshape(\u001b[38;5;241m-\u001b[39m\u001b[38;5;241m1\u001b[39m))\n",
      "\u001b[0;31mAttributeError\u001b[0m: 'Dataset' object has no attribute 'data'"
     ]
    }
   ],
   "source": [
    "set(f['label_seg'].reshape(-1))"
   ]
  },
  {
   "cell_type": "code",
   "execution_count": 1,
   "id": "076ae033-f471-4163-a452-4b66e7791982",
   "metadata": {},
   "outputs": [],
   "source": [
    "import json\n",
    "import os\n",
    "data_dir = \"/data1/linfeng/partnet-mobility\"\n",
    "count=0\n",
    "valid=0\n",
    "all_class=set()\n",
    "valid_class=set()\n",
    "for id in os.listdir(data_dir):\n",
    "    with open(os.path.join(data_dir,id,\"meta.json\"), 'r') as fcc_file:\n",
    "        cls = json.load(fcc_file)['model_cat']\n",
    "    if os.path.exists(os.path.join(data_dir,id,\"point_sample\")):\n",
    "        valid_class.add(cls)\n",
    "        valid+=1\n",
    "    all_class.add(cls)\n",
    "    count+=1"
   ]
  },
  {
   "cell_type": "code",
   "execution_count": 8,
   "id": "a369d1ec-a2c5-4028-a6c5-019cab938f97",
   "metadata": {},
   "outputs": [
    {
     "data": {
      "text/plain": [
       "2347"
      ]
     },
     "execution_count": 8,
     "metadata": {},
     "output_type": "execute_result"
    }
   ],
   "source": [
    "count"
   ]
  },
  {
   "cell_type": "code",
   "execution_count": 9,
   "id": "1612972e-27ed-4b1d-81f2-d3679d13134e",
   "metadata": {},
   "outputs": [
    {
     "data": {
      "text/plain": [
       "1094"
      ]
     },
     "execution_count": 9,
     "metadata": {},
     "output_type": "execute_result"
    }
   ],
   "source": [
    "valid"
   ]
  },
  {
   "cell_type": "code",
   "execution_count": 12,
   "id": "bca5241c-04a6-4a59-8279-f4b2bfb36b7a",
   "metadata": {},
   "outputs": [
    {
     "data": {
      "text/plain": [
       "46"
      ]
     },
     "execution_count": 12,
     "metadata": {},
     "output_type": "execute_result"
    }
   ],
   "source": [
    "len(all_class)"
   ]
  },
  {
   "cell_type": "code",
   "execution_count": 13,
   "id": "814a11e0-7e2d-4d67-aa39-1cccaf51a36d",
   "metadata": {},
   "outputs": [
    {
     "data": {
      "text/plain": [
       "19"
      ]
     },
     "execution_count": 13,
     "metadata": {},
     "output_type": "execute_result"
    }
   ],
   "source": [
    "len(valid_class)"
   ]
  },
  {
   "cell_type": "code",
   "execution_count": 14,
   "id": "b59fd318-f1a3-490f-826d-b53bb34b9a18",
   "metadata": {},
   "outputs": [
    {
     "name": "stdout",
     "output_type": "stream",
     "text": [
      "Collecting sapien\n",
      "  Downloading sapien-2.2.2-cp310-cp310-manylinux2014_x86_64.whl.metadata (9.6 kB)\n",
      "Requirement already satisfied: numpy>=1.17 in /home/linfeng/miniconda3/envs/pointllm/lib/python3.10/site-packages (from sapien) (1.26.0)\n",
      "Requirement already satisfied: requests>=2.22 in /home/linfeng/miniconda3/envs/pointllm/lib/python3.10/site-packages (from sapien) (2.31.0)\n",
      "Requirement already satisfied: transforms3d>=0.3 in /home/linfeng/miniconda3/envs/pointllm/lib/python3.10/site-packages (from sapien) (0.4.1)\n",
      "Requirement already satisfied: opencv-python>=4.0 in /home/linfeng/miniconda3/envs/pointllm/lib/python3.10/site-packages (from sapien) (4.8.1.78)\n",
      "Requirement already satisfied: charset-normalizer<4,>=2 in /home/linfeng/miniconda3/envs/pointllm/lib/python3.10/site-packages (from requests>=2.22->sapien) (3.1.0)\n",
      "Requirement already satisfied: idna<4,>=2.5 in /home/linfeng/miniconda3/envs/pointllm/lib/python3.10/site-packages (from requests>=2.22->sapien) (3.4)\n",
      "Requirement already satisfied: urllib3<3,>=1.21.1 in /home/linfeng/miniconda3/envs/pointllm/lib/python3.10/site-packages (from requests>=2.22->sapien) (1.26.18)\n",
      "Requirement already satisfied: certifi>=2017.4.17 in /home/linfeng/miniconda3/envs/pointllm/lib/python3.10/site-packages (from requests>=2.22->sapien) (2023.7.22)\n",
      "Downloading sapien-2.2.2-cp310-cp310-manylinux2014_x86_64.whl (39.1 MB)\n",
      "\u001b[2K   \u001b[38;2;114;156;31m━━━━━━━━━━━━━━━━━━━━━━━━━━━━━━━━━━━━━━━━\u001b[0m \u001b[32m39.1/39.1 MB\u001b[0m \u001b[31m1.8 MB/s\u001b[0m eta \u001b[36m0:00:00\u001b[0mm eta \u001b[36m0:00:01\u001b[0m[36m0:00:01\u001b[0m\n",
      "\u001b[?25hInstalling collected packages: sapien\n",
      "Successfully installed sapien-2.2.2\n"
     ]
    }
   ],
   "source": [
    "!pip install sapien"
   ]
  },
  {
   "cell_type": "code",
   "execution_count": 15,
   "id": "ae00877f-28a3-47d6-b6e1-fa9c2b6ecbeb",
   "metadata": {},
   "outputs": [
    {
     "data": {
      "text/plain": [
       "{'Bottle',\n",
       " 'Box',\n",
       " 'Chair',\n",
       " 'Clock',\n",
       " 'Dishwasher',\n",
       " 'Display',\n",
       " 'Door',\n",
       " 'Faucet',\n",
       " 'Kettle',\n",
       " 'Keyboard',\n",
       " 'Lamp',\n",
       " 'Laptop',\n",
       " 'Microwave',\n",
       " 'Oven',\n",
       " 'Refrigerator',\n",
       " 'Scissors',\n",
       " 'StorageFurniture',\n",
       " 'Table',\n",
       " 'TrashCan'}"
      ]
     },
     "execution_count": 15,
     "metadata": {},
     "output_type": "execute_result"
    }
   ],
   "source": [
    "valid_class"
   ]
  },
  {
   "cell_type": "code",
   "execution_count": null,
   "id": "95bdba47-ee0d-4e92-b2e5-e0d2c2881e6b",
   "metadata": {},
   "outputs": [],
   "source": []
  }
 ],
 "metadata": {
  "kernelspec": {
   "display_name": "Python 3 (ipykernel)",
   "language": "python",
   "name": "python3"
  },
  "language_info": {
   "codemirror_mode": {
    "name": "ipython",
    "version": 3
   },
   "file_extension": ".py",
   "mimetype": "text/x-python",
   "name": "python",
   "nbconvert_exporter": "python",
   "pygments_lexer": "ipython3",
   "version": "3.10.13"
  }
 },
 "nbformat": 4,
 "nbformat_minor": 5
}
