{
 "cells": [
  {
   "cell_type": "code",
   "execution_count": 113,
   "id": "71c7daf6-e8ae-443f-8020-9f3e5bd14184",
   "metadata": {},
   "outputs": [],
   "source": [
    "import open3d as o3d\n",
    "import os\n",
    "# !pip install trimesh\n",
    "import trimesh\n",
    "from plyfile import PlyData, PlyElement"
   ]
  },
  {
   "cell_type": "code",
   "execution_count": 15,
   "id": "70f76764-7f79-4aac-95b7-0ea743a6a490",
   "metadata": {},
   "outputs": [],
   "source": [
    "files = [_ for _ in  os.listdir(\"./\") if \"glb\" in _]"
   ]
  },
  {
   "cell_type": "code",
   "execution_count": 70,
   "id": "e1768c5b-aaa0-4d21-a2ee-8f9d06d63d39",
   "metadata": {},
   "outputs": [],
   "source": [
    "for idx,path_obj in enumerate(files):\n",
    "    mesh = o3d.io.read_triangle_mesh(path_obj)\n",
    "    mesh.compute_vertex_normals()\n",
    "    pcd = mesh.sample_points_uniformly(number_of_points=8192)\n",
    "    # o3d.visualization.draw_geometries([mesh])\n",
    "    m = trimesh.load(path_obj, force='mesh')\n",
    "    point_positions = np.array(pcd.points)\n",
    "    point_colors = (np.random.random(size=[8192, 3]) * 255).astype(np.uint8)\n",
    "    np.save(path_obj[:-4]+\"_8192.npy\",point_positions)\n",
    "    # v.add_points(\"try_\"+str(idx), point_positions, point_colors, point_size=25.0)"
   ]
  },
  {
   "cell_type": "code",
   "execution_count": 104,
   "id": "b59eb168-376f-4b32-b95f-5cccf18dc332",
   "metadata": {},
   "outputs": [
    {
     "data": {
      "text/plain": [
       "<trimesh.Trimesh(vertices.shape=(32870, 3), faces.shape=(16935, 3))>"
      ]
     },
     "execution_count": 104,
     "metadata": {},
     "output_type": "execute_result"
    }
   ],
   "source": [
    "mesh = trimesh.load(\"00014d97ce5247deb063e4e245994b72.glb\",force='mesh')\n",
    "mesh"
   ]
  },
  {
   "cell_type": "code",
   "execution_count": 84,
   "id": "34e8d1f0-64be-45f6-9b07-081f5183ae2a",
   "metadata": {},
   "outputs": [
    {
     "data": {
      "text/plain": [
       "<trimesh.Scene(len(geometry)=14, name=`00014d97ce5247deb063e4e245994b72.glb`)>"
      ]
     },
     "execution_count": 84,
     "metadata": {},
     "output_type": "execute_result"
    }
   ],
   "source": [
    "mesh"
   ]
  },
  {
   "cell_type": "code",
   "execution_count": 81,
   "id": "0995b50b-cda8-48b7-86e2-4c62581a32c3",
   "metadata": {},
   "outputs": [
    {
     "data": {
      "text/plain": [
       "<Type.TriangleMesh: 6>"
      ]
     },
     "execution_count": 81,
     "metadata": {},
     "output_type": "execute_result"
    }
   ],
   "source": [
    "mesh.TriangleMesh"
   ]
  },
  {
   "cell_type": "code",
   "execution_count": 52,
   "id": "662e5736-7a99-4bd2-8215-d7a9e8c4cb0a",
   "metadata": {},
   "outputs": [],
   "source": [
    "import pyviz3d.visualizer as viz\n",
    "import numpy as np"
   ]
  },
  {
   "cell_type": "code",
   "execution_count": 60,
   "id": "913b5cd4-13b4-4527-b861-42e5b5fda397",
   "metadata": {},
   "outputs": [],
   "source": [
    "v = viz.Visualizer()\n",
    "point_positions = np.array(pcd.points)\n",
    "point_colors = (np.random.random(size=[8192, 3]) * 255).astype(np.uint8)\n",
    "v.add_points(\"try\", point_positions, point_colors, point_size=25.0)"
   ]
  },
  {
   "cell_type": "code",
   "execution_count": 64,
   "id": "4a48c5f5-8084-4bc5-a542-61e7f23a1d43",
   "metadata": {
    "scrolled": true
   },
   "outputs": [
    {
     "name": "stdout",
     "output_type": "stream",
     "text": [
      "\n",
      "************************************************************************\n",
      "1) Start local server:\n",
      "    cd /home/linfeng/PointLLM/data/try; python -m http.server 6008\n",
      "2) Open in browser:\n",
      "    http://0.0.0.0:6008\n",
      "************************************************************************\n"
     ]
    }
   ],
   "source": [
    "v.save(\"./try\")"
   ]
  },
  {
   "cell_type": "code",
   "execution_count": 106,
   "id": "9741193c-8b6a-44e5-9001-1ebb89597d0d",
   "metadata": {},
   "outputs": [],
   "source": [
    "files = os.listdir(\"/data2/llf/ShapeNet/02691156\")"
   ]
  },
  {
   "cell_type": "code",
   "execution_count": 114,
   "id": "3752dbac-a73f-4954-ad6d-642cdbe4028b",
   "metadata": {},
   "outputs": [],
   "source": [
    "for i in files:\n",
    "    # a = np.load(os.path.join(\"/data2\",\"llf\",\"ShapeNet\",\"02691156\",i),allow_pickle=True)\n",
    "    x = PlyData.read(os.path.join(\"/data2\",\"llf\",\"ShapeNet\",\"02691156\",i))\n",
    "    break"
   ]
  },
  {
   "cell_type": "code",
   "execution_count": null,
   "id": "ac90953a-1c41-4469-a444-e85e5945e701",
   "metadata": {},
   "outputs": [],
   "source": []
  },
  {
   "cell_type": "code",
   "execution_count": null,
   "id": "5ff8ce6e-2510-4140-886e-ff0970f28cef",
   "metadata": {},
   "outputs": [],
   "source": []
  },
  {
   "cell_type": "code",
   "execution_count": 1,
   "id": "fbd9e932-e469-46d8-9a24-530ed760cab3",
   "metadata": {},
   "outputs": [],
   "source": [
    "import numpy as np"
   ]
  },
  {
   "cell_type": "code",
   "execution_count": 4,
   "id": "d5707856-0f02-4735-8536-21d976e4f858",
   "metadata": {},
   "outputs": [],
   "source": [
    "a = np.load(\"/data2/llf/fss_data/ScanNet/scenes/data/scene0000_00.npy\")"
   ]
  },
  {
   "cell_type": "code",
   "execution_count": 6,
   "id": "a74abef3-30ad-43e5-9e5a-bad83c166f92",
   "metadata": {},
   "outputs": [
    {
     "data": {
      "text/plain": [
       "array([ 3.8378706 ,  8.08761024,  1.85999155, 85.        , 75.        ,\n",
       "       57.        , 15.        ])"
      ]
     },
     "execution_count": 6,
     "metadata": {},
     "output_type": "execute_result"
    }
   ],
   "source": [
    "a[0]"
   ]
  },
  {
   "cell_type": "code",
   "execution_count": 11,
   "id": "1e657f27-6eec-4173-b11c-88a046fab43f",
   "metadata": {},
   "outputs": [],
   "source": [
    "b = np.load(\"/data2/llf/fss_data/ScanNet/scene0000_00_block_2.npy\")"
   ]
  },
  {
   "cell_type": "code",
   "execution_count": 17,
   "id": "43352a1b-005c-4260-9474-7ad16306aae5",
   "metadata": {},
   "outputs": [],
   "source": [
    "b = b[:,0:6]"
   ]
  },
  {
   "cell_type": "code",
   "execution_count": 19,
   "id": "3a30ddf1-7aab-4009-b7ba-92aba3dba96e",
   "metadata": {},
   "outputs": [
    {
     "data": {
      "text/plain": [
       "array([ 0.44704896,  5.01072542,  1.29732772, 63.        , 51.        ,\n",
       "       40.        ])"
      ]
     },
     "execution_count": 19,
     "metadata": {},
     "output_type": "execute_result"
    }
   ],
   "source": [
    "b[0]"
   ]
  },
  {
   "cell_type": "code",
   "execution_count": 23,
   "id": "df35950c-18b4-4de4-bb95-2c0bc1591384",
   "metadata": {},
   "outputs": [],
   "source": [
    "b[:,3:] = b[:,3:]/255"
   ]
  },
  {
   "cell_type": "code",
   "execution_count": 24,
   "id": "7a229c46-e43d-4473-a5d9-783083c85a6d",
   "metadata": {},
   "outputs": [
    {
     "data": {
      "text/plain": [
       "array([[0.44704896, 5.01072542, 1.29732772, 0.24705882, 0.2       ,\n",
       "        0.15686275],\n",
       "       [0.4256868 , 5.02555506, 1.31904682, 0.44313725, 0.4       ,\n",
       "        0.28235294],\n",
       "       [0.40879276, 5.03898041, 1.47939226, 0.43137255, 0.27843137,\n",
       "        0.14117647],\n",
       "       ...,\n",
       "       [0.64455345, 5.00621359, 0.59368434, 0.2       , 0.15294118,\n",
       "        0.08627451],\n",
       "       [0.55486849, 5.06028406, 0.57758125, 0.30980392, 0.24705882,\n",
       "        0.16862745],\n",
       "       [0.62935128, 5.0486912 , 0.58648058, 0.16862745, 0.14901961,\n",
       "        0.09019608]])"
      ]
     },
     "execution_count": 24,
     "metadata": {},
     "output_type": "execute_result"
    }
   ],
   "source": [
    "b"
   ]
  },
  {
   "cell_type": "code",
   "execution_count": null,
   "id": "4651e9e3-662e-4b95-a51f-ae1e5b1b2e18",
   "metadata": {},
   "outputs": [],
   "source": []
  }
 ],
 "metadata": {
  "kernelspec": {
   "display_name": "Python 3 (ipykernel)",
   "language": "python",
   "name": "python3"
  },
  "language_info": {
   "codemirror_mode": {
    "name": "ipython",
    "version": 3
   },
   "file_extension": ".py",
   "mimetype": "text/x-python",
   "name": "python",
   "nbconvert_exporter": "python",
   "pygments_lexer": "ipython3",
   "version": "3.10.13"
  }
 },
 "nbformat": 4,
 "nbformat_minor": 5
}
