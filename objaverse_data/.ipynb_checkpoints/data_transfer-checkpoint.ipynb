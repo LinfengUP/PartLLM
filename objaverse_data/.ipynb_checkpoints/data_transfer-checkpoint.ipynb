{
 "cells": [
  {
   "cell_type": "code",
   "execution_count": 113,
   "id": "71c7daf6-e8ae-443f-8020-9f3e5bd14184",
   "metadata": {},
   "outputs": [],
   "source": [
    "import open3d as o3d\n",
    "import os\n",
    "# !pip install trimesh\n",
    "import trimesh\n",
    "from plyfile import PlyData, PlyElement"
   ]
  },
  {
   "cell_type": "code",
   "execution_count": 15,
   "id": "70f76764-7f79-4aac-95b7-0ea743a6a490",
   "metadata": {},
   "outputs": [],
   "source": [
    "files = [_ for _ in  os.listdir(\"./\") if \"glb\" in _]"
   ]
  },
  {
   "cell_type": "code",
   "execution_count": 70,
   "id": "e1768c5b-aaa0-4d21-a2ee-8f9d06d63d39",
   "metadata": {},
   "outputs": [],
   "source": [
    "for idx,path_obj in enumerate(files):\n",
    "    mesh = o3d.io.read_triangle_mesh(path_obj)\n",
    "    mesh.compute_vertex_normals()\n",
    "    pcd = mesh.sample_points_uniformly(number_of_points=8192)\n",
    "    # o3d.visualization.draw_geometries([mesh])\n",
    "    m = trimesh.load(path_obj, force='mesh')\n",
    "    point_positions = np.array(pcd.points)\n",
    "    point_colors = (np.random.random(size=[8192, 3]) * 255).astype(np.uint8)\n",
    "    np.save(path_obj[:-4]+\"_8192.npy\",point_positions)\n",
    "    # v.add_points(\"try_\"+str(idx), point_positions, point_colors, point_size=25.0)"
   ]
  },
  {
   "cell_type": "code",
   "execution_count": 104,
   "id": "b59eb168-376f-4b32-b95f-5cccf18dc332",
   "metadata": {},
   "outputs": [
    {
     "data": {
      "text/plain": [
       "<trimesh.Trimesh(vertices.shape=(32870, 3), faces.shape=(16935, 3))>"
      ]
     },
     "execution_count": 104,
     "metadata": {},
     "output_type": "execute_result"
    }
   ],
   "source": [
    "mesh = trimesh.load(\"00014d97ce5247deb063e4e245994b72.glb\",force='mesh')\n",
    "mesh"
   ]
  },
  {
   "cell_type": "code",
   "execution_count": 84,
   "id": "34e8d1f0-64be-45f6-9b07-081f5183ae2a",
   "metadata": {},
   "outputs": [
    {
     "data": {
      "text/plain": [
       "<trimesh.Scene(len(geometry)=14, name=`00014d97ce5247deb063e4e245994b72.glb`)>"
      ]
     },
     "execution_count": 84,
     "metadata": {},
     "output_type": "execute_result"
    }
   ],
   "source": [
    "mesh"
   ]
  },
  {
   "cell_type": "code",
   "execution_count": 81,
   "id": "0995b50b-cda8-48b7-86e2-4c62581a32c3",
   "metadata": {},
   "outputs": [
    {
     "data": {
      "text/plain": [
       "<Type.TriangleMesh: 6>"
      ]
     },
     "execution_count": 81,
     "metadata": {},
     "output_type": "execute_result"
    }
   ],
   "source": [
    "mesh.TriangleMesh"
   ]
  },
  {
   "cell_type": "code",
   "execution_count": 52,
   "id": "662e5736-7a99-4bd2-8215-d7a9e8c4cb0a",
   "metadata": {},
   "outputs": [],
   "source": [
    "import pyviz3d.visualizer as viz\n",
    "import numpy as np"
   ]
  },
  {
   "cell_type": "code",
   "execution_count": 60,
   "id": "913b5cd4-13b4-4527-b861-42e5b5fda397",
   "metadata": {},
   "outputs": [],
   "source": [
    "v = viz.Visualizer()\n",
    "point_positions = np.array(pcd.points)\n",
    "point_colors = (np.random.random(size=[8192, 3]) * 255).astype(np.uint8)\n",
    "v.add_points(\"try\", point_positions, point_colors, point_size=25.0)"
   ]
  },
  {
   "cell_type": "code",
   "execution_count": 64,
   "id": "4a48c5f5-8084-4bc5-a542-61e7f23a1d43",
   "metadata": {
    "scrolled": true
   },
   "outputs": [
    {
     "name": "stdout",
     "output_type": "stream",
     "text": [
      "\n",
      "************************************************************************\n",
      "1) Start local server:\n",
      "    cd /home/linfeng/PointLLM/data/try; python -m http.server 6008\n",
      "2) Open in browser:\n",
      "    http://0.0.0.0:6008\n",
      "************************************************************************\n"
     ]
    }
   ],
   "source": [
    "v.save(\"./try\")"
   ]
  },
  {
   "cell_type": "code",
   "execution_count": 106,
   "id": "9741193c-8b6a-44e5-9001-1ebb89597d0d",
   "metadata": {},
   "outputs": [],
   "source": [
    "files = os.listdir(\"/data2/llf/ShapeNet/02691156\")"
   ]
  },
  {
   "cell_type": "code",
   "execution_count": 114,
   "id": "3752dbac-a73f-4954-ad6d-642cdbe4028b",
   "metadata": {},
   "outputs": [],
   "source": [
    "for i in files:\n",
    "    # a = np.load(os.path.join(\"/data2\",\"llf\",\"ShapeNet\",\"02691156\",i),allow_pickle=True)\n",
    "    x = PlyData.read(os.path.join(\"/data2\",\"llf\",\"ShapeNet\",\"02691156\",i))\n",
    "    break"
   ]
  },
  {
   "cell_type": "code",
   "execution_count": 115,
   "id": "ee5a9c5b-cbc9-469d-81e8-249c28b9877c",
   "metadata": {},
   "outputs": [
    {
     "data": {
      "text/plain": [
       "PlyData((PlyElement('vertex', (PlyProperty('x', 'float'), PlyProperty('y', 'float'), PlyProperty('z', 'float')), count=2048, comments=[]),), text=False, byte_order='<', comments=[], obj_info=[])"
      ]
     },
     "execution_count": 115,
     "metadata": {},
     "output_type": "execute_result"
    }
   ],
   "source": [
    "x"
   ]
  },
  {
   "cell_type": "code",
   "execution_count": null,
   "id": "ac90953a-1c41-4469-a444-e85e5945e701",
   "metadata": {},
   "outputs": [],
   "source": []
  }
 ],
 "metadata": {
  "kernelspec": {
   "display_name": "Python 3 (ipykernel)",
   "language": "python",
   "name": "python3"
  },
  "language_info": {
   "codemirror_mode": {
    "name": "ipython",
    "version": 3
   },
   "file_extension": ".py",
   "mimetype": "text/x-python",
   "name": "python",
   "nbconvert_exporter": "python",
   "pygments_lexer": "ipython3",
   "version": "3.10.13"
  }
 },
 "nbformat": 4,
 "nbformat_minor": 5
}
